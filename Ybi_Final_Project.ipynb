{
  "nbformat": 4,
  "nbformat_minor": 0,
  "metadata": {
    "colab": {
      "provenance": [],
      "authorship_tag": "ABX9TyP9TtNf0W76OxYTRkiFQ0vI",
      "include_colab_link": true
    },
    "kernelspec": {
      "name": "python3",
      "display_name": "Python 3"
    },
    "language_info": {
      "name": "python"
    }
  },
  "cells": [
    {
      "cell_type": "markdown",
      "metadata": {
        "id": "view-in-github",
        "colab_type": "text"
      },
      "source": [
        "<a href=\"https://colab.research.google.com/github/Kanak-a/Data-Analysis/blob/main/Ybi_Final_Project.ipynb\" target=\"_parent\"><img src=\"https://colab.research.google.com/assets/colab-badge.svg\" alt=\"Open In Colab\"/></a>"
      ]
    },
    {
      "cell_type": "markdown",
      "source": [
        "# Title of Project : Financial Market News Analysis\n",
        "\n",
        "---\n",
        "\n",
        "## Brief Overview :\n",
        "- My name is Kanaka A. And I am an engineering student interested in the field of AI and DS.\n",
        "- I had enrolled for an internship at YBI Foundation to get a gist on the projects, half way there to complete this virtual internship I had to submit an assignment where we had multiple projects to choose one from them and complete it.\n",
        "- So 'Sentiment analysis on the financial market news' caught my eye. Building a model of my own which could tell me whether a particular news had a <mark> postive - (1) or negative - (0) sentiment.</mark>\n",
        "- Below project helped me understanding how and when RandomFOrestClassifier must be used, how feature_extraction took place, etc."
      ],
      "metadata": {
        "id": "CA6xJvSYMzIG"
      }
    },
    {
      "cell_type": "markdown",
      "source": [
        "## <font color='green'> Objective </font> : To develop a ML model capable of analyzing sentiment in financial market news articles, aiming to gain insights into overall market sentiment and potential trends.\n",
        "\n",
        "## <font color='green'>Data Source </font>:  YBI Foundation Dataset Github\n",
        "( link : https://github.com/YBI-Foundation/Dataset/blob/main/Financial%20Market%20News.csv )"
      ],
      "metadata": {
        "id": "LwNvjWNsM8Ji"
      }
    },
    {
      "cell_type": "markdown",
      "source": [
        "## Import Library -"
      ],
      "metadata": {
        "id": "_9qdaariNRMv"
      }
    },
    {
      "cell_type": "code",
      "execution_count": 1,
      "metadata": {
        "id": "wye2Wm7mMsk8"
      },
      "outputs": [],
      "source": [
        "import pandas as pd\n",
        "import numpy as np\n",
        "import seaborn as sns\n",
        "import matplotlib.pyplot as plt"
      ]
    },
    {
      "cell_type": "markdown",
      "source": [
        "## Import Data -"
      ],
      "metadata": {
        "id": "B4tPruvDNTex"
      }
    },
    {
      "cell_type": "code",
      "source": [
        "df = pd.read_csv(\"https://raw.githubusercontent.com/YBI-Foundation/Dataset/main/Financial%20Market%20News.csv\", encoding = 'ISO-8859-1')"
      ],
      "metadata": {
        "id": "068W2QQjNp02"
      },
      "execution_count": 2,
      "outputs": []
    },
    {
      "cell_type": "markdown",
      "source": [
        "## Describe Data"
      ],
      "metadata": {
        "id": "q7Zgn0fZNnFN"
      }
    },
    {
      "cell_type": "code",
      "source": [
        "df.head()"
      ],
      "metadata": {
        "colab": {
          "base_uri": "https://localhost:8080/",
          "height": 915
        },
        "id": "jCNDfA-lOCDs",
        "outputId": "6910582a-0ed0-47e6-d037-263c4c9b1ce4"
      },
      "execution_count": 3,
      "outputs": [
        {
          "output_type": "execute_result",
          "data": {
            "text/plain": [
              "         Date  Label                                             News 1  \\\n",
              "0  01-01-2010      0           McIlroy's men catch cold from Gudjonsson   \n",
              "1  02-01-2010      0               Warning from history points to crash   \n",
              "2  03-01-2010      0      Comment: Why Israel's peaceniks feel betrayed   \n",
              "3  04-01-2010      1             £750,000-a-goal Weah aims parting shot   \n",
              "4  05-01-2010      1  Leeds arrive in Turkey to the silence of the fans   \n",
              "\n",
              "                                       News 2  \\\n",
              "0                       Obituary: Brian Walsh   \n",
              "1              Investors flee to dollar haven   \n",
              "2  Court deals blow to seizure of drug assets   \n",
              "3            Newcastle pay for Fletcher years   \n",
              "4     One woman's vision offers loan lifeline   \n",
              "\n",
              "                                            News 3  \\\n",
              "0       Workplace blues leave employers in the red   \n",
              "1                      Banks and tobacco in favour   \n",
              "2                       An ideal target for spooks   \n",
              "3  Brown sent to the stands for Scotland qualifier   \n",
              "4          Working Lives: How world leaders worked   \n",
              "\n",
              "                                        News 4  \\\n",
              "0                     Classical review: Rattle   \n",
              "1                        Review: Llama Farmers   \n",
              "2  World steps between two sides intent on war   \n",
              "3         Tourists wary of breaking new ground   \n",
              "4           Working Lives: Tricks of the trade   \n",
              "\n",
              "                                              News 5  \\\n",
              "0                     Dance review: Merce Cunningham   \n",
              "1                       War jitters lead to sell-off   \n",
              "2                       What the region's papers say   \n",
              "3              Canary Wharf climbs into the FTSE 100   \n",
              "4  Working Lives: six-hour days, long lunches and...   \n",
              "\n",
              "                                         News 6  \\\n",
              "0  Genetic tests to be used in setting premiums   \n",
              "1                    Your not-so-secret history   \n",
              "2           Comment: Fear and rage in Palestine   \n",
              "3                           Review: Bill Bailey   \n",
              "4                        Pop review: We Love UK   \n",
              "\n",
              "                                          News 7  \\\n",
              "0                        Opera review: La Bohème   \n",
              "1                  Review: The Northern Sinfonia   \n",
              "2  Poverty and resentment fuels Palestinian fury   \n",
              "3                              Review: Classical   \n",
              "4               World music review: Marisa Monte   \n",
              "\n",
              "                                        News 8  ...  \\\n",
              "0                   Pop review: Britney Spears  ...   \n",
              "1                             Review: Hysteria  ...   \n",
              "2  Republican feud fear as dissident is killed  ...   \n",
              "3              Review: New Contemporaries 2000  ...   \n",
              "4             Art review:  Hollingsworth/Heyer  ...   \n",
              "\n",
              "                                News 16                              News 17  \\\n",
              "0                 Finland 0 - 0 England                   Healy a marked man   \n",
              "1  Why Wenger will stick to his Gunners  Out of luck England hit rock bottom   \n",
              "2             FTSE goes upwardly mobile             At this price?  BP Amoco   \n",
              "3         More cash on way for counties      Cairns carries Kiwis to victory   \n",
              "4          Duisenberg in double trouble           Pru to cut pension charges   \n",
              "\n",
              "                                             News 18  \\\n",
              "0                     Happy birthday Harpers & Queen   \n",
              "1                         Wilkinson out of his depth   \n",
              "2                                            Go fish   \n",
              "3  Year of Blanchflower's flourish when Spurs sto...   \n",
              "4                            Art review: Paul Graham   \n",
              "\n",
              "                                             News 19  \\\n",
              "0  Win unlimited access to the Raindance film fes...   \n",
              "1                   Kinsella sparks Irish power play   \n",
              "2         Bosnian Serb blows himself up to evade law   \n",
              "3      New direct approach brings only pay-per-blues   \n",
              "4               Shearer shot sparks Boro humiliation   \n",
              "\n",
              "                                             News 20  \\\n",
              "0  Labour pledges £800m to bridge north-south divide   \n",
              "1                    Brown banished as Scots rebound   \n",
              "2                       Orange float delayed to 2001   \n",
              "3                           Third Division  round-up   \n",
              "4  Ridsdale's lingering fears as Leeds revisit Tu...   \n",
              "\n",
              "                                             News 21  \\\n",
              "0       Wales: Lib-Lab pact firm despite resignation   \n",
              "1                   Battling Wales cling to lifeline   \n",
              "2  Angry factory workers root out fear, favours a...   \n",
              "3                          Second Division  round-up   \n",
              "4            Champions League: Rangers v Galatasaray   \n",
              "\n",
              "                              News 22  \\\n",
              "0                        Donald Dewar   \n",
              "1   Ehiogu close to sealing Boro move   \n",
              "2  Smith defied advice on dome payout   \n",
              "3            First Division  round-up   \n",
              "4   Champions League: Lazio v Arsenal   \n",
              "\n",
              "                                             News 23  \\\n",
              "0  Regenerating homes  regenerates well-being in ...   \n",
              "1                                 Man-to-man marking   \n",
              "2                        Xerox takes the axe to jobs   \n",
              "3                McLean ends his career with a punch   \n",
              "4                                Lazio 1 - 1 Arsenal   \n",
              "\n",
              "                        News 24  \\\n",
              "0   Win £100 worth of underwear   \n",
              "1                   Match stats   \n",
              "2  Comment: Refugees in Britain   \n",
              "3     Heskey grabs triple crown   \n",
              "4           England in Pakistan   \n",
              "\n",
              "                                             News 25  \n",
              "0                             TV guide: Random views  \n",
              "1  French referee at centre of storm is no strang...  \n",
              "2              Maverick who sparked the new intifada  \n",
              "3                   Weah on his way as City march on  \n",
              "4               England given olive-branch reception  \n",
              "\n",
              "[5 rows x 27 columns]"
            ],
            "text/html": [
              "\n",
              "  <div id=\"df-b35ca9c5-ab44-4f4e-997b-94023564a781\" class=\"colab-df-container\">\n",
              "    <div>\n",
              "<style scoped>\n",
              "    .dataframe tbody tr th:only-of-type {\n",
              "        vertical-align: middle;\n",
              "    }\n",
              "\n",
              "    .dataframe tbody tr th {\n",
              "        vertical-align: top;\n",
              "    }\n",
              "\n",
              "    .dataframe thead th {\n",
              "        text-align: right;\n",
              "    }\n",
              "</style>\n",
              "<table border=\"1\" class=\"dataframe\">\n",
              "  <thead>\n",
              "    <tr style=\"text-align: right;\">\n",
              "      <th></th>\n",
              "      <th>Date</th>\n",
              "      <th>Label</th>\n",
              "      <th>News 1</th>\n",
              "      <th>News 2</th>\n",
              "      <th>News 3</th>\n",
              "      <th>News 4</th>\n",
              "      <th>News 5</th>\n",
              "      <th>News 6</th>\n",
              "      <th>News 7</th>\n",
              "      <th>News 8</th>\n",
              "      <th>...</th>\n",
              "      <th>News 16</th>\n",
              "      <th>News 17</th>\n",
              "      <th>News 18</th>\n",
              "      <th>News 19</th>\n",
              "      <th>News 20</th>\n",
              "      <th>News 21</th>\n",
              "      <th>News 22</th>\n",
              "      <th>News 23</th>\n",
              "      <th>News 24</th>\n",
              "      <th>News 25</th>\n",
              "    </tr>\n",
              "  </thead>\n",
              "  <tbody>\n",
              "    <tr>\n",
              "      <th>0</th>\n",
              "      <td>01-01-2010</td>\n",
              "      <td>0</td>\n",
              "      <td>McIlroy's men catch cold from Gudjonsson</td>\n",
              "      <td>Obituary: Brian Walsh</td>\n",
              "      <td>Workplace blues leave employers in the red</td>\n",
              "      <td>Classical review: Rattle</td>\n",
              "      <td>Dance review: Merce Cunningham</td>\n",
              "      <td>Genetic tests to be used in setting premiums</td>\n",
              "      <td>Opera review: La Bohème</td>\n",
              "      <td>Pop review: Britney Spears</td>\n",
              "      <td>...</td>\n",
              "      <td>Finland 0 - 0 England</td>\n",
              "      <td>Healy a marked man</td>\n",
              "      <td>Happy birthday Harpers &amp; Queen</td>\n",
              "      <td>Win unlimited access to the Raindance film fes...</td>\n",
              "      <td>Labour pledges £800m to bridge north-south divide</td>\n",
              "      <td>Wales: Lib-Lab pact firm despite resignation</td>\n",
              "      <td>Donald Dewar</td>\n",
              "      <td>Regenerating homes  regenerates well-being in ...</td>\n",
              "      <td>Win £100 worth of underwear</td>\n",
              "      <td>TV guide: Random views</td>\n",
              "    </tr>\n",
              "    <tr>\n",
              "      <th>1</th>\n",
              "      <td>02-01-2010</td>\n",
              "      <td>0</td>\n",
              "      <td>Warning from history points to crash</td>\n",
              "      <td>Investors flee to dollar haven</td>\n",
              "      <td>Banks and tobacco in favour</td>\n",
              "      <td>Review: Llama Farmers</td>\n",
              "      <td>War jitters lead to sell-off</td>\n",
              "      <td>Your not-so-secret history</td>\n",
              "      <td>Review: The Northern Sinfonia</td>\n",
              "      <td>Review: Hysteria</td>\n",
              "      <td>...</td>\n",
              "      <td>Why Wenger will stick to his Gunners</td>\n",
              "      <td>Out of luck England hit rock bottom</td>\n",
              "      <td>Wilkinson out of his depth</td>\n",
              "      <td>Kinsella sparks Irish power play</td>\n",
              "      <td>Brown banished as Scots rebound</td>\n",
              "      <td>Battling Wales cling to lifeline</td>\n",
              "      <td>Ehiogu close to sealing Boro move</td>\n",
              "      <td>Man-to-man marking</td>\n",
              "      <td>Match stats</td>\n",
              "      <td>French referee at centre of storm is no strang...</td>\n",
              "    </tr>\n",
              "    <tr>\n",
              "      <th>2</th>\n",
              "      <td>03-01-2010</td>\n",
              "      <td>0</td>\n",
              "      <td>Comment: Why Israel's peaceniks feel betrayed</td>\n",
              "      <td>Court deals blow to seizure of drug assets</td>\n",
              "      <td>An ideal target for spooks</td>\n",
              "      <td>World steps between two sides intent on war</td>\n",
              "      <td>What the region's papers say</td>\n",
              "      <td>Comment: Fear and rage in Palestine</td>\n",
              "      <td>Poverty and resentment fuels Palestinian fury</td>\n",
              "      <td>Republican feud fear as dissident is killed</td>\n",
              "      <td>...</td>\n",
              "      <td>FTSE goes upwardly mobile</td>\n",
              "      <td>At this price?  BP Amoco</td>\n",
              "      <td>Go fish</td>\n",
              "      <td>Bosnian Serb blows himself up to evade law</td>\n",
              "      <td>Orange float delayed to 2001</td>\n",
              "      <td>Angry factory workers root out fear, favours a...</td>\n",
              "      <td>Smith defied advice on dome payout</td>\n",
              "      <td>Xerox takes the axe to jobs</td>\n",
              "      <td>Comment: Refugees in Britain</td>\n",
              "      <td>Maverick who sparked the new intifada</td>\n",
              "    </tr>\n",
              "    <tr>\n",
              "      <th>3</th>\n",
              "      <td>04-01-2010</td>\n",
              "      <td>1</td>\n",
              "      <td>£750,000-a-goal Weah aims parting shot</td>\n",
              "      <td>Newcastle pay for Fletcher years</td>\n",
              "      <td>Brown sent to the stands for Scotland qualifier</td>\n",
              "      <td>Tourists wary of breaking new ground</td>\n",
              "      <td>Canary Wharf climbs into the FTSE 100</td>\n",
              "      <td>Review: Bill Bailey</td>\n",
              "      <td>Review: Classical</td>\n",
              "      <td>Review: New Contemporaries 2000</td>\n",
              "      <td>...</td>\n",
              "      <td>More cash on way for counties</td>\n",
              "      <td>Cairns carries Kiwis to victory</td>\n",
              "      <td>Year of Blanchflower's flourish when Spurs sto...</td>\n",
              "      <td>New direct approach brings only pay-per-blues</td>\n",
              "      <td>Third Division  round-up</td>\n",
              "      <td>Second Division  round-up</td>\n",
              "      <td>First Division  round-up</td>\n",
              "      <td>McLean ends his career with a punch</td>\n",
              "      <td>Heskey grabs triple crown</td>\n",
              "      <td>Weah on his way as City march on</td>\n",
              "    </tr>\n",
              "    <tr>\n",
              "      <th>4</th>\n",
              "      <td>05-01-2010</td>\n",
              "      <td>1</td>\n",
              "      <td>Leeds arrive in Turkey to the silence of the fans</td>\n",
              "      <td>One woman's vision offers loan lifeline</td>\n",
              "      <td>Working Lives: How world leaders worked</td>\n",
              "      <td>Working Lives: Tricks of the trade</td>\n",
              "      <td>Working Lives: six-hour days, long lunches and...</td>\n",
              "      <td>Pop review: We Love UK</td>\n",
              "      <td>World music review: Marisa Monte</td>\n",
              "      <td>Art review:  Hollingsworth/Heyer</td>\n",
              "      <td>...</td>\n",
              "      <td>Duisenberg in double trouble</td>\n",
              "      <td>Pru to cut pension charges</td>\n",
              "      <td>Art review: Paul Graham</td>\n",
              "      <td>Shearer shot sparks Boro humiliation</td>\n",
              "      <td>Ridsdale's lingering fears as Leeds revisit Tu...</td>\n",
              "      <td>Champions League: Rangers v Galatasaray</td>\n",
              "      <td>Champions League: Lazio v Arsenal</td>\n",
              "      <td>Lazio 1 - 1 Arsenal</td>\n",
              "      <td>England in Pakistan</td>\n",
              "      <td>England given olive-branch reception</td>\n",
              "    </tr>\n",
              "  </tbody>\n",
              "</table>\n",
              "<p>5 rows × 27 columns</p>\n",
              "</div>\n",
              "    <div class=\"colab-df-buttons\">\n",
              "\n",
              "  <div class=\"colab-df-container\">\n",
              "    <button class=\"colab-df-convert\" onclick=\"convertToInteractive('df-b35ca9c5-ab44-4f4e-997b-94023564a781')\"\n",
              "            title=\"Convert this dataframe to an interactive table.\"\n",
              "            style=\"display:none;\">\n",
              "\n",
              "  <svg xmlns=\"http://www.w3.org/2000/svg\" height=\"24px\" viewBox=\"0 -960 960 960\">\n",
              "    <path d=\"M120-120v-720h720v720H120Zm60-500h600v-160H180v160Zm220 220h160v-160H400v160Zm0 220h160v-160H400v160ZM180-400h160v-160H180v160Zm440 0h160v-160H620v160ZM180-180h160v-160H180v160Zm440 0h160v-160H620v160Z\"/>\n",
              "  </svg>\n",
              "    </button>\n",
              "\n",
              "  <style>\n",
              "    .colab-df-container {\n",
              "      display:flex;\n",
              "      gap: 12px;\n",
              "    }\n",
              "\n",
              "    .colab-df-convert {\n",
              "      background-color: #E8F0FE;\n",
              "      border: none;\n",
              "      border-radius: 50%;\n",
              "      cursor: pointer;\n",
              "      display: none;\n",
              "      fill: #1967D2;\n",
              "      height: 32px;\n",
              "      padding: 0 0 0 0;\n",
              "      width: 32px;\n",
              "    }\n",
              "\n",
              "    .colab-df-convert:hover {\n",
              "      background-color: #E2EBFA;\n",
              "      box-shadow: 0px 1px 2px rgba(60, 64, 67, 0.3), 0px 1px 3px 1px rgba(60, 64, 67, 0.15);\n",
              "      fill: #174EA6;\n",
              "    }\n",
              "\n",
              "    .colab-df-buttons div {\n",
              "      margin-bottom: 4px;\n",
              "    }\n",
              "\n",
              "    [theme=dark] .colab-df-convert {\n",
              "      background-color: #3B4455;\n",
              "      fill: #D2E3FC;\n",
              "    }\n",
              "\n",
              "    [theme=dark] .colab-df-convert:hover {\n",
              "      background-color: #434B5C;\n",
              "      box-shadow: 0px 1px 3px 1px rgba(0, 0, 0, 0.15);\n",
              "      filter: drop-shadow(0px 1px 2px rgba(0, 0, 0, 0.3));\n",
              "      fill: #FFFFFF;\n",
              "    }\n",
              "  </style>\n",
              "\n",
              "    <script>\n",
              "      const buttonEl =\n",
              "        document.querySelector('#df-b35ca9c5-ab44-4f4e-997b-94023564a781 button.colab-df-convert');\n",
              "      buttonEl.style.display =\n",
              "        google.colab.kernel.accessAllowed ? 'block' : 'none';\n",
              "\n",
              "      async function convertToInteractive(key) {\n",
              "        const element = document.querySelector('#df-b35ca9c5-ab44-4f4e-997b-94023564a781');\n",
              "        const dataTable =\n",
              "          await google.colab.kernel.invokeFunction('convertToInteractive',\n",
              "                                                    [key], {});\n",
              "        if (!dataTable) return;\n",
              "\n",
              "        const docLinkHtml = 'Like what you see? Visit the ' +\n",
              "          '<a target=\"_blank\" href=https://colab.research.google.com/notebooks/data_table.ipynb>data table notebook</a>'\n",
              "          + ' to learn more about interactive tables.';\n",
              "        element.innerHTML = '';\n",
              "        dataTable['output_type'] = 'display_data';\n",
              "        await google.colab.output.renderOutput(dataTable, element);\n",
              "        const docLink = document.createElement('div');\n",
              "        docLink.innerHTML = docLinkHtml;\n",
              "        element.appendChild(docLink);\n",
              "      }\n",
              "    </script>\n",
              "  </div>\n",
              "\n",
              "\n",
              "<div id=\"df-f5e5ec90-0412-4022-9941-1d94b1c8ac39\">\n",
              "  <button class=\"colab-df-quickchart\" onclick=\"quickchart('df-f5e5ec90-0412-4022-9941-1d94b1c8ac39')\"\n",
              "            title=\"Suggest charts\"\n",
              "            style=\"display:none;\">\n",
              "\n",
              "<svg xmlns=\"http://www.w3.org/2000/svg\" height=\"24px\"viewBox=\"0 0 24 24\"\n",
              "     width=\"24px\">\n",
              "    <g>\n",
              "        <path d=\"M19 3H5c-1.1 0-2 .9-2 2v14c0 1.1.9 2 2 2h14c1.1 0 2-.9 2-2V5c0-1.1-.9-2-2-2zM9 17H7v-7h2v7zm4 0h-2V7h2v10zm4 0h-2v-4h2v4z\"/>\n",
              "    </g>\n",
              "</svg>\n",
              "  </button>\n",
              "\n",
              "<style>\n",
              "  .colab-df-quickchart {\n",
              "      --bg-color: #E8F0FE;\n",
              "      --fill-color: #1967D2;\n",
              "      --hover-bg-color: #E2EBFA;\n",
              "      --hover-fill-color: #174EA6;\n",
              "      --disabled-fill-color: #AAA;\n",
              "      --disabled-bg-color: #DDD;\n",
              "  }\n",
              "\n",
              "  [theme=dark] .colab-df-quickchart {\n",
              "      --bg-color: #3B4455;\n",
              "      --fill-color: #D2E3FC;\n",
              "      --hover-bg-color: #434B5C;\n",
              "      --hover-fill-color: #FFFFFF;\n",
              "      --disabled-bg-color: #3B4455;\n",
              "      --disabled-fill-color: #666;\n",
              "  }\n",
              "\n",
              "  .colab-df-quickchart {\n",
              "    background-color: var(--bg-color);\n",
              "    border: none;\n",
              "    border-radius: 50%;\n",
              "    cursor: pointer;\n",
              "    display: none;\n",
              "    fill: var(--fill-color);\n",
              "    height: 32px;\n",
              "    padding: 0;\n",
              "    width: 32px;\n",
              "  }\n",
              "\n",
              "  .colab-df-quickchart:hover {\n",
              "    background-color: var(--hover-bg-color);\n",
              "    box-shadow: 0 1px 2px rgba(60, 64, 67, 0.3), 0 1px 3px 1px rgba(60, 64, 67, 0.15);\n",
              "    fill: var(--button-hover-fill-color);\n",
              "  }\n",
              "\n",
              "  .colab-df-quickchart-complete:disabled,\n",
              "  .colab-df-quickchart-complete:disabled:hover {\n",
              "    background-color: var(--disabled-bg-color);\n",
              "    fill: var(--disabled-fill-color);\n",
              "    box-shadow: none;\n",
              "  }\n",
              "\n",
              "  .colab-df-spinner {\n",
              "    border: 2px solid var(--fill-color);\n",
              "    border-color: transparent;\n",
              "    border-bottom-color: var(--fill-color);\n",
              "    animation:\n",
              "      spin 1s steps(1) infinite;\n",
              "  }\n",
              "\n",
              "  @keyframes spin {\n",
              "    0% {\n",
              "      border-color: transparent;\n",
              "      border-bottom-color: var(--fill-color);\n",
              "      border-left-color: var(--fill-color);\n",
              "    }\n",
              "    20% {\n",
              "      border-color: transparent;\n",
              "      border-left-color: var(--fill-color);\n",
              "      border-top-color: var(--fill-color);\n",
              "    }\n",
              "    30% {\n",
              "      border-color: transparent;\n",
              "      border-left-color: var(--fill-color);\n",
              "      border-top-color: var(--fill-color);\n",
              "      border-right-color: var(--fill-color);\n",
              "    }\n",
              "    40% {\n",
              "      border-color: transparent;\n",
              "      border-right-color: var(--fill-color);\n",
              "      border-top-color: var(--fill-color);\n",
              "    }\n",
              "    60% {\n",
              "      border-color: transparent;\n",
              "      border-right-color: var(--fill-color);\n",
              "    }\n",
              "    80% {\n",
              "      border-color: transparent;\n",
              "      border-right-color: var(--fill-color);\n",
              "      border-bottom-color: var(--fill-color);\n",
              "    }\n",
              "    90% {\n",
              "      border-color: transparent;\n",
              "      border-bottom-color: var(--fill-color);\n",
              "    }\n",
              "  }\n",
              "</style>\n",
              "\n",
              "  <script>\n",
              "    async function quickchart(key) {\n",
              "      const quickchartButtonEl =\n",
              "        document.querySelector('#' + key + ' button');\n",
              "      quickchartButtonEl.disabled = true;  // To prevent multiple clicks.\n",
              "      quickchartButtonEl.classList.add('colab-df-spinner');\n",
              "      try {\n",
              "        const charts = await google.colab.kernel.invokeFunction(\n",
              "            'suggestCharts', [key], {});\n",
              "      } catch (error) {\n",
              "        console.error('Error during call to suggestCharts:', error);\n",
              "      }\n",
              "      quickchartButtonEl.classList.remove('colab-df-spinner');\n",
              "      quickchartButtonEl.classList.add('colab-df-quickchart-complete');\n",
              "    }\n",
              "    (() => {\n",
              "      let quickchartButtonEl =\n",
              "        document.querySelector('#df-f5e5ec90-0412-4022-9941-1d94b1c8ac39 button');\n",
              "      quickchartButtonEl.style.display =\n",
              "        google.colab.kernel.accessAllowed ? 'block' : 'none';\n",
              "    })();\n",
              "  </script>\n",
              "</div>\n",
              "\n",
              "    </div>\n",
              "  </div>\n"
            ],
            "application/vnd.google.colaboratory.intrinsic+json": {
              "type": "dataframe",
              "variable_name": "df"
            }
          },
          "metadata": {},
          "execution_count": 3
        }
      ]
    },
    {
      "cell_type": "code",
      "source": [
        "df.describe()"
      ],
      "metadata": {
        "colab": {
          "base_uri": "https://localhost:8080/",
          "height": 345
        },
        "id": "0NAMyaLOaV1a",
        "outputId": "6492aa8a-9088-4f94-9d72-2732100f9ce1"
      },
      "execution_count": 4,
      "outputs": [
        {
          "output_type": "execute_result",
          "data": {
            "text/plain": [
              "             Label\n",
              "count  4101.000000\n",
              "mean      0.528164\n",
              "std       0.499267\n",
              "min       0.000000\n",
              "25%       0.000000\n",
              "50%       1.000000\n",
              "75%       1.000000\n",
              "max       1.000000"
            ],
            "text/html": [
              "\n",
              "  <div id=\"df-8e8ae5af-532d-42d1-8244-b9057d2aab54\" class=\"colab-df-container\">\n",
              "    <div>\n",
              "<style scoped>\n",
              "    .dataframe tbody tr th:only-of-type {\n",
              "        vertical-align: middle;\n",
              "    }\n",
              "\n",
              "    .dataframe tbody tr th {\n",
              "        vertical-align: top;\n",
              "    }\n",
              "\n",
              "    .dataframe thead th {\n",
              "        text-align: right;\n",
              "    }\n",
              "</style>\n",
              "<table border=\"1\" class=\"dataframe\">\n",
              "  <thead>\n",
              "    <tr style=\"text-align: right;\">\n",
              "      <th></th>\n",
              "      <th>Label</th>\n",
              "    </tr>\n",
              "  </thead>\n",
              "  <tbody>\n",
              "    <tr>\n",
              "      <th>count</th>\n",
              "      <td>4101.000000</td>\n",
              "    </tr>\n",
              "    <tr>\n",
              "      <th>mean</th>\n",
              "      <td>0.528164</td>\n",
              "    </tr>\n",
              "    <tr>\n",
              "      <th>std</th>\n",
              "      <td>0.499267</td>\n",
              "    </tr>\n",
              "    <tr>\n",
              "      <th>min</th>\n",
              "      <td>0.000000</td>\n",
              "    </tr>\n",
              "    <tr>\n",
              "      <th>25%</th>\n",
              "      <td>0.000000</td>\n",
              "    </tr>\n",
              "    <tr>\n",
              "      <th>50%</th>\n",
              "      <td>1.000000</td>\n",
              "    </tr>\n",
              "    <tr>\n",
              "      <th>75%</th>\n",
              "      <td>1.000000</td>\n",
              "    </tr>\n",
              "    <tr>\n",
              "      <th>max</th>\n",
              "      <td>1.000000</td>\n",
              "    </tr>\n",
              "  </tbody>\n",
              "</table>\n",
              "</div>\n",
              "    <div class=\"colab-df-buttons\">\n",
              "\n",
              "  <div class=\"colab-df-container\">\n",
              "    <button class=\"colab-df-convert\" onclick=\"convertToInteractive('df-8e8ae5af-532d-42d1-8244-b9057d2aab54')\"\n",
              "            title=\"Convert this dataframe to an interactive table.\"\n",
              "            style=\"display:none;\">\n",
              "\n",
              "  <svg xmlns=\"http://www.w3.org/2000/svg\" height=\"24px\" viewBox=\"0 -960 960 960\">\n",
              "    <path d=\"M120-120v-720h720v720H120Zm60-500h600v-160H180v160Zm220 220h160v-160H400v160Zm0 220h160v-160H400v160ZM180-400h160v-160H180v160Zm440 0h160v-160H620v160ZM180-180h160v-160H180v160Zm440 0h160v-160H620v160Z\"/>\n",
              "  </svg>\n",
              "    </button>\n",
              "\n",
              "  <style>\n",
              "    .colab-df-container {\n",
              "      display:flex;\n",
              "      gap: 12px;\n",
              "    }\n",
              "\n",
              "    .colab-df-convert {\n",
              "      background-color: #E8F0FE;\n",
              "      border: none;\n",
              "      border-radius: 50%;\n",
              "      cursor: pointer;\n",
              "      display: none;\n",
              "      fill: #1967D2;\n",
              "      height: 32px;\n",
              "      padding: 0 0 0 0;\n",
              "      width: 32px;\n",
              "    }\n",
              "\n",
              "    .colab-df-convert:hover {\n",
              "      background-color: #E2EBFA;\n",
              "      box-shadow: 0px 1px 2px rgba(60, 64, 67, 0.3), 0px 1px 3px 1px rgba(60, 64, 67, 0.15);\n",
              "      fill: #174EA6;\n",
              "    }\n",
              "\n",
              "    .colab-df-buttons div {\n",
              "      margin-bottom: 4px;\n",
              "    }\n",
              "\n",
              "    [theme=dark] .colab-df-convert {\n",
              "      background-color: #3B4455;\n",
              "      fill: #D2E3FC;\n",
              "    }\n",
              "\n",
              "    [theme=dark] .colab-df-convert:hover {\n",
              "      background-color: #434B5C;\n",
              "      box-shadow: 0px 1px 3px 1px rgba(0, 0, 0, 0.15);\n",
              "      filter: drop-shadow(0px 1px 2px rgba(0, 0, 0, 0.3));\n",
              "      fill: #FFFFFF;\n",
              "    }\n",
              "  </style>\n",
              "\n",
              "    <script>\n",
              "      const buttonEl =\n",
              "        document.querySelector('#df-8e8ae5af-532d-42d1-8244-b9057d2aab54 button.colab-df-convert');\n",
              "      buttonEl.style.display =\n",
              "        google.colab.kernel.accessAllowed ? 'block' : 'none';\n",
              "\n",
              "      async function convertToInteractive(key) {\n",
              "        const element = document.querySelector('#df-8e8ae5af-532d-42d1-8244-b9057d2aab54');\n",
              "        const dataTable =\n",
              "          await google.colab.kernel.invokeFunction('convertToInteractive',\n",
              "                                                    [key], {});\n",
              "        if (!dataTable) return;\n",
              "\n",
              "        const docLinkHtml = 'Like what you see? Visit the ' +\n",
              "          '<a target=\"_blank\" href=https://colab.research.google.com/notebooks/data_table.ipynb>data table notebook</a>'\n",
              "          + ' to learn more about interactive tables.';\n",
              "        element.innerHTML = '';\n",
              "        dataTable['output_type'] = 'display_data';\n",
              "        await google.colab.output.renderOutput(dataTable, element);\n",
              "        const docLink = document.createElement('div');\n",
              "        docLink.innerHTML = docLinkHtml;\n",
              "        element.appendChild(docLink);\n",
              "      }\n",
              "    </script>\n",
              "  </div>\n",
              "\n",
              "\n",
              "<div id=\"df-4359e76a-3764-487a-81b1-afd433365bd4\">\n",
              "  <button class=\"colab-df-quickchart\" onclick=\"quickchart('df-4359e76a-3764-487a-81b1-afd433365bd4')\"\n",
              "            title=\"Suggest charts\"\n",
              "            style=\"display:none;\">\n",
              "\n",
              "<svg xmlns=\"http://www.w3.org/2000/svg\" height=\"24px\"viewBox=\"0 0 24 24\"\n",
              "     width=\"24px\">\n",
              "    <g>\n",
              "        <path d=\"M19 3H5c-1.1 0-2 .9-2 2v14c0 1.1.9 2 2 2h14c1.1 0 2-.9 2-2V5c0-1.1-.9-2-2-2zM9 17H7v-7h2v7zm4 0h-2V7h2v10zm4 0h-2v-4h2v4z\"/>\n",
              "    </g>\n",
              "</svg>\n",
              "  </button>\n",
              "\n",
              "<style>\n",
              "  .colab-df-quickchart {\n",
              "      --bg-color: #E8F0FE;\n",
              "      --fill-color: #1967D2;\n",
              "      --hover-bg-color: #E2EBFA;\n",
              "      --hover-fill-color: #174EA6;\n",
              "      --disabled-fill-color: #AAA;\n",
              "      --disabled-bg-color: #DDD;\n",
              "  }\n",
              "\n",
              "  [theme=dark] .colab-df-quickchart {\n",
              "      --bg-color: #3B4455;\n",
              "      --fill-color: #D2E3FC;\n",
              "      --hover-bg-color: #434B5C;\n",
              "      --hover-fill-color: #FFFFFF;\n",
              "      --disabled-bg-color: #3B4455;\n",
              "      --disabled-fill-color: #666;\n",
              "  }\n",
              "\n",
              "  .colab-df-quickchart {\n",
              "    background-color: var(--bg-color);\n",
              "    border: none;\n",
              "    border-radius: 50%;\n",
              "    cursor: pointer;\n",
              "    display: none;\n",
              "    fill: var(--fill-color);\n",
              "    height: 32px;\n",
              "    padding: 0;\n",
              "    width: 32px;\n",
              "  }\n",
              "\n",
              "  .colab-df-quickchart:hover {\n",
              "    background-color: var(--hover-bg-color);\n",
              "    box-shadow: 0 1px 2px rgba(60, 64, 67, 0.3), 0 1px 3px 1px rgba(60, 64, 67, 0.15);\n",
              "    fill: var(--button-hover-fill-color);\n",
              "  }\n",
              "\n",
              "  .colab-df-quickchart-complete:disabled,\n",
              "  .colab-df-quickchart-complete:disabled:hover {\n",
              "    background-color: var(--disabled-bg-color);\n",
              "    fill: var(--disabled-fill-color);\n",
              "    box-shadow: none;\n",
              "  }\n",
              "\n",
              "  .colab-df-spinner {\n",
              "    border: 2px solid var(--fill-color);\n",
              "    border-color: transparent;\n",
              "    border-bottom-color: var(--fill-color);\n",
              "    animation:\n",
              "      spin 1s steps(1) infinite;\n",
              "  }\n",
              "\n",
              "  @keyframes spin {\n",
              "    0% {\n",
              "      border-color: transparent;\n",
              "      border-bottom-color: var(--fill-color);\n",
              "      border-left-color: var(--fill-color);\n",
              "    }\n",
              "    20% {\n",
              "      border-color: transparent;\n",
              "      border-left-color: var(--fill-color);\n",
              "      border-top-color: var(--fill-color);\n",
              "    }\n",
              "    30% {\n",
              "      border-color: transparent;\n",
              "      border-left-color: var(--fill-color);\n",
              "      border-top-color: var(--fill-color);\n",
              "      border-right-color: var(--fill-color);\n",
              "    }\n",
              "    40% {\n",
              "      border-color: transparent;\n",
              "      border-right-color: var(--fill-color);\n",
              "      border-top-color: var(--fill-color);\n",
              "    }\n",
              "    60% {\n",
              "      border-color: transparent;\n",
              "      border-right-color: var(--fill-color);\n",
              "    }\n",
              "    80% {\n",
              "      border-color: transparent;\n",
              "      border-right-color: var(--fill-color);\n",
              "      border-bottom-color: var(--fill-color);\n",
              "    }\n",
              "    90% {\n",
              "      border-color: transparent;\n",
              "      border-bottom-color: var(--fill-color);\n",
              "    }\n",
              "  }\n",
              "</style>\n",
              "\n",
              "  <script>\n",
              "    async function quickchart(key) {\n",
              "      const quickchartButtonEl =\n",
              "        document.querySelector('#' + key + ' button');\n",
              "      quickchartButtonEl.disabled = true;  // To prevent multiple clicks.\n",
              "      quickchartButtonEl.classList.add('colab-df-spinner');\n",
              "      try {\n",
              "        const charts = await google.colab.kernel.invokeFunction(\n",
              "            'suggestCharts', [key], {});\n",
              "      } catch (error) {\n",
              "        console.error('Error during call to suggestCharts:', error);\n",
              "      }\n",
              "      quickchartButtonEl.classList.remove('colab-df-spinner');\n",
              "      quickchartButtonEl.classList.add('colab-df-quickchart-complete');\n",
              "    }\n",
              "    (() => {\n",
              "      let quickchartButtonEl =\n",
              "        document.querySelector('#df-4359e76a-3764-487a-81b1-afd433365bd4 button');\n",
              "      quickchartButtonEl.style.display =\n",
              "        google.colab.kernel.accessAllowed ? 'block' : 'none';\n",
              "    })();\n",
              "  </script>\n",
              "</div>\n",
              "\n",
              "    </div>\n",
              "  </div>\n"
            ],
            "application/vnd.google.colaboratory.intrinsic+json": {
              "type": "dataframe",
              "summary": "{\n  \"name\": \"df\",\n  \"rows\": 8,\n  \"fields\": [\n    {\n      \"column\": \"Label\",\n      \"properties\": {\n        \"dtype\": \"number\",\n        \"std\": 1449.719098513576,\n        \"min\": 0.0,\n        \"max\": 4101.0,\n        \"num_unique_values\": 5,\n        \"samples\": [\n          0.5281638624725676,\n          1.0,\n          0.4992670417684304\n        ],\n        \"semantic_type\": \"\",\n        \"description\": \"\"\n      }\n    }\n  ]\n}"
            }
          },
          "metadata": {},
          "execution_count": 4
        }
      ]
    },
    {
      "cell_type": "code",
      "source": [
        "df.shape"
      ],
      "metadata": {
        "colab": {
          "base_uri": "https://localhost:8080/"
        },
        "id": "EENfAW2aawlc",
        "outputId": "615423f8-014e-4ca8-a70d-89d5e2a97eed"
      },
      "execution_count": 5,
      "outputs": [
        {
          "output_type": "execute_result",
          "data": {
            "text/plain": [
              "(4101, 27)"
            ]
          },
          "metadata": {},
          "execution_count": 5
        }
      ]
    },
    {
      "cell_type": "code",
      "source": [
        "df.columns"
      ],
      "metadata": {
        "colab": {
          "base_uri": "https://localhost:8080/"
        },
        "id": "WXmR2GDZa9M1",
        "outputId": "21424787-284e-4cfd-db58-5b43d96a21b2"
      },
      "execution_count": 6,
      "outputs": [
        {
          "output_type": "execute_result",
          "data": {
            "text/plain": [
              "Index(['Date', 'Label', 'News 1', 'News 2', 'News 3', 'News 4', 'News 5',\n",
              "       'News 6', 'News 7', 'News 8', 'News 9', 'News 10', 'News 11', 'News 12',\n",
              "       'News 13', 'News 14', 'News 15', 'News 16', 'News 17', 'News 18',\n",
              "       'News 19', 'News 20', 'News 21', 'News 22', 'News 23', 'News 24',\n",
              "       'News 25'],\n",
              "      dtype='object')"
            ]
          },
          "metadata": {},
          "execution_count": 6
        }
      ]
    },
    {
      "cell_type": "markdown",
      "source": [
        "## Data Preprocessing"
      ],
      "metadata": {
        "id": "1Fvzk43tOIxI"
      }
    },
    {
      "cell_type": "markdown",
      "source": [
        "### Feature Selection"
      ],
      "metadata": {
        "id": "0LbqDooSvZkZ"
      }
    },
    {
      "cell_type": "code",
      "source": [
        "' '.join(str(x) for x in df.iloc[1, 2 : 27])"
      ],
      "metadata": {
        "id": "_i9tO3sFOq10",
        "colab": {
          "base_uri": "https://localhost:8080/",
          "height": 133
        },
        "outputId": "6edf13ef-d1f9-4198-ab01-2311d12b77b0"
      },
      "execution_count": 7,
      "outputs": [
        {
          "output_type": "execute_result",
          "data": {
            "text/plain": [
              "\"Warning from history points to crash Investors flee to dollar haven Banks and tobacco in favour Review: Llama Farmers War jitters lead to sell-off Your not-so-secret history Review: The Northern Sinfonia Review: Hysteria Review: The Guardsman Opera: The Marriage of Figaro Review: The Turk in Italy Deutsche spells out its plans for diversification Traders' panic sends oil prices skyward TV sport chief leaves home over romance Leader: Hi-tech twitch Why Wenger will stick to his Gunners Out of luck England hit rock bottom Wilkinson out of his depth Kinsella sparks Irish power play Brown banished as Scots rebound Battling Wales cling to lifeline Ehiogu close to sealing Boro move Man-to-man marking Match stats French referee at centre of storm is no stranger to controversy\""
            ],
            "application/vnd.google.colaboratory.intrinsic+json": {
              "type": "string"
            }
          },
          "metadata": {},
          "execution_count": 7
        }
      ]
    },
    {
      "cell_type": "code",
      "source": [
        "len(df.index)"
      ],
      "metadata": {
        "id": "ypCpslb8wB__",
        "colab": {
          "base_uri": "https://localhost:8080/"
        },
        "outputId": "c7142299-9e3b-4d3e-a06f-d88ff646d3ca"
      },
      "execution_count": 8,
      "outputs": [
        {
          "output_type": "execute_result",
          "data": {
            "text/plain": [
              "4101"
            ]
          },
          "metadata": {},
          "execution_count": 8
        }
      ]
    },
    {
      "cell_type": "code",
      "source": [
        "news = []\n",
        "for row in range(0, len(df.index)):\n",
        "  news.append(' '.join(str(x) for x in df.iloc[row, 2: 27]))"
      ],
      "metadata": {
        "id": "vluyMRoxwEyP"
      },
      "execution_count": 9,
      "outputs": []
    },
    {
      "cell_type": "code",
      "source": [
        "news[1]"
      ],
      "metadata": {
        "id": "y27OCBS8wgsH",
        "colab": {
          "base_uri": "https://localhost:8080/",
          "height": 133
        },
        "outputId": "7c50a083-f049-44e6-d1e7-50f7ef307fcc"
      },
      "execution_count": 10,
      "outputs": [
        {
          "output_type": "execute_result",
          "data": {
            "text/plain": [
              "\"Warning from history points to crash Investors flee to dollar haven Banks and tobacco in favour Review: Llama Farmers War jitters lead to sell-off Your not-so-secret history Review: The Northern Sinfonia Review: Hysteria Review: The Guardsman Opera: The Marriage of Figaro Review: The Turk in Italy Deutsche spells out its plans for diversification Traders' panic sends oil prices skyward TV sport chief leaves home over romance Leader: Hi-tech twitch Why Wenger will stick to his Gunners Out of luck England hit rock bottom Wilkinson out of his depth Kinsella sparks Irish power play Brown banished as Scots rebound Battling Wales cling to lifeline Ehiogu close to sealing Boro move Man-to-man marking Match stats French referee at centre of storm is no stranger to controversy\""
            ],
            "application/vnd.google.colaboratory.intrinsic+json": {
              "type": "string"
            }
          },
          "metadata": {},
          "execution_count": 10
        }
      ]
    },
    {
      "cell_type": "markdown",
      "source": [
        "## Define Target Variable (y) and Feature Variables (X)"
      ],
      "metadata": {
        "id": "u6Eil_bhOtGt"
      }
    },
    {
      "cell_type": "code",
      "source": [
        "x = news"
      ],
      "metadata": {
        "id": "SB6KTKsjOz_h"
      },
      "execution_count": 11,
      "outputs": []
    },
    {
      "cell_type": "code",
      "source": [
        "type(x)"
      ],
      "metadata": {
        "id": "iIdDr5dMwllc",
        "colab": {
          "base_uri": "https://localhost:8080/"
        },
        "outputId": "ee53ec18-98ec-4cc0-9bbd-351c74964d81"
      },
      "execution_count": 12,
      "outputs": [
        {
          "output_type": "execute_result",
          "data": {
            "text/plain": [
              "list"
            ]
          },
          "metadata": {},
          "execution_count": 12
        }
      ]
    },
    {
      "cell_type": "code",
      "source": [
        "from sklearn.feature_extraction.text import CountVectorizer"
      ],
      "metadata": {
        "id": "xduXaPvAPRrn"
      },
      "execution_count": 13,
      "outputs": []
    },
    {
      "cell_type": "code",
      "source": [
        "cv = CountVectorizer(lowercase = True, ngram_range= (1,1))"
      ],
      "metadata": {
        "id": "tSznM2D9i4_h"
      },
      "execution_count": 14,
      "outputs": []
    },
    {
      "cell_type": "code",
      "source": [
        "x = cv.fit_transform(x)"
      ],
      "metadata": {
        "id": "TMD__B1gi4Pz"
      },
      "execution_count": 15,
      "outputs": []
    },
    {
      "cell_type": "code",
      "source": [
        "y = df['Label']"
      ],
      "metadata": {
        "id": "Hp8BtzTqjiik"
      },
      "execution_count": 16,
      "outputs": []
    },
    {
      "cell_type": "code",
      "source": [
        "x.shape"
      ],
      "metadata": {
        "id": "WtB71P9Ui3gR",
        "colab": {
          "base_uri": "https://localhost:8080/"
        },
        "outputId": "96cff1e0-0f02-44f1-d920-0fa7f1221282"
      },
      "execution_count": 17,
      "outputs": [
        {
          "output_type": "execute_result",
          "data": {
            "text/plain": [
              "(4101, 48527)"
            ]
          },
          "metadata": {},
          "execution_count": 17
        }
      ]
    },
    {
      "cell_type": "code",
      "source": [
        "y.shape"
      ],
      "metadata": {
        "id": "KH55XbLyjos_",
        "colab": {
          "base_uri": "https://localhost:8080/"
        },
        "outputId": "fbcfad05-ba96-48bd-f295-f37d8b79fafd"
      },
      "execution_count": 18,
      "outputs": [
        {
          "output_type": "execute_result",
          "data": {
            "text/plain": [
              "(4101,)"
            ]
          },
          "metadata": {},
          "execution_count": 18
        }
      ]
    },
    {
      "cell_type": "markdown",
      "source": [
        "# Train Test Split method"
      ],
      "metadata": {
        "id": "0ihlJNaHjwI9"
      }
    },
    {
      "cell_type": "code",
      "source": [
        "from sklearn.model_selection import train_test_split"
      ],
      "metadata": {
        "id": "uFiVTBdej1UN"
      },
      "execution_count": 19,
      "outputs": []
    },
    {
      "cell_type": "code",
      "source": [
        "x_train, x_test, y_train, y_test = train_test_split(x, y, test_size = 0.3, random_state = 2529)"
      ],
      "metadata": {
        "id": "QnemtmsTj1GI"
      },
      "execution_count": 20,
      "outputs": []
    },
    {
      "cell_type": "markdown",
      "source": [
        "## Modeling"
      ],
      "metadata": {
        "id": "QR4m4QIjPSTh"
      }
    },
    {
      "cell_type": "code",
      "source": [
        "from sklearn.ensemble import RandomForestClassifier"
      ],
      "metadata": {
        "id": "Z9xgmtX6j057"
      },
      "execution_count": 21,
      "outputs": []
    },
    {
      "cell_type": "code",
      "source": [
        "rf = RandomForestClassifier(n_estimators = 100)"
      ],
      "metadata": {
        "id": "P8e7rjo7j0pp"
      },
      "execution_count": 28,
      "outputs": []
    },
    {
      "cell_type": "code",
      "source": [
        "rf.fit(x_train, y_train)"
      ],
      "metadata": {
        "id": "Ja-FQEjXkjxe",
        "colab": {
          "base_uri": "https://localhost:8080/",
          "height": 84
        },
        "outputId": "44b38e5f-a6e3-46d9-d929-9b099fa31ad5"
      },
      "execution_count": 29,
      "outputs": [
        {
          "output_type": "execute_result",
          "data": {
            "text/plain": [
              "RandomForestClassifier()"
            ],
            "text/html": [
              "<style>#sk-container-id-2 {color: black;background-color: white;}#sk-container-id-2 pre{padding: 0;}#sk-container-id-2 div.sk-toggleable {background-color: white;}#sk-container-id-2 label.sk-toggleable__label {cursor: pointer;display: block;width: 100%;margin-bottom: 0;padding: 0.3em;box-sizing: border-box;text-align: center;}#sk-container-id-2 label.sk-toggleable__label-arrow:before {content: \"▸\";float: left;margin-right: 0.25em;color: #696969;}#sk-container-id-2 label.sk-toggleable__label-arrow:hover:before {color: black;}#sk-container-id-2 div.sk-estimator:hover label.sk-toggleable__label-arrow:before {color: black;}#sk-container-id-2 div.sk-toggleable__content {max-height: 0;max-width: 0;overflow: hidden;text-align: left;background-color: #f0f8ff;}#sk-container-id-2 div.sk-toggleable__content pre {margin: 0.2em;color: black;border-radius: 0.25em;background-color: #f0f8ff;}#sk-container-id-2 input.sk-toggleable__control:checked~div.sk-toggleable__content {max-height: 200px;max-width: 100%;overflow: auto;}#sk-container-id-2 input.sk-toggleable__control:checked~label.sk-toggleable__label-arrow:before {content: \"▾\";}#sk-container-id-2 div.sk-estimator input.sk-toggleable__control:checked~label.sk-toggleable__label {background-color: #d4ebff;}#sk-container-id-2 div.sk-label input.sk-toggleable__control:checked~label.sk-toggleable__label {background-color: #d4ebff;}#sk-container-id-2 input.sk-hidden--visually {border: 0;clip: rect(1px 1px 1px 1px);clip: rect(1px, 1px, 1px, 1px);height: 1px;margin: -1px;overflow: hidden;padding: 0;position: absolute;width: 1px;}#sk-container-id-2 div.sk-estimator {font-family: monospace;background-color: #f0f8ff;border: 1px dotted black;border-radius: 0.25em;box-sizing: border-box;margin-bottom: 0.5em;}#sk-container-id-2 div.sk-estimator:hover {background-color: #d4ebff;}#sk-container-id-2 div.sk-parallel-item::after {content: \"\";width: 100%;border-bottom: 1px solid gray;flex-grow: 1;}#sk-container-id-2 div.sk-label:hover label.sk-toggleable__label {background-color: #d4ebff;}#sk-container-id-2 div.sk-serial::before {content: \"\";position: absolute;border-left: 1px solid gray;box-sizing: border-box;top: 0;bottom: 0;left: 50%;z-index: 0;}#sk-container-id-2 div.sk-serial {display: flex;flex-direction: column;align-items: center;background-color: white;padding-right: 0.2em;padding-left: 0.2em;position: relative;}#sk-container-id-2 div.sk-item {position: relative;z-index: 1;}#sk-container-id-2 div.sk-parallel {display: flex;align-items: stretch;justify-content: center;background-color: white;position: relative;}#sk-container-id-2 div.sk-item::before, #sk-container-id-2 div.sk-parallel-item::before {content: \"\";position: absolute;border-left: 1px solid gray;box-sizing: border-box;top: 0;bottom: 0;left: 50%;z-index: -1;}#sk-container-id-2 div.sk-parallel-item {display: flex;flex-direction: column;z-index: 1;position: relative;background-color: white;}#sk-container-id-2 div.sk-parallel-item:first-child::after {align-self: flex-end;width: 50%;}#sk-container-id-2 div.sk-parallel-item:last-child::after {align-self: flex-start;width: 50%;}#sk-container-id-2 div.sk-parallel-item:only-child::after {width: 0;}#sk-container-id-2 div.sk-dashed-wrapped {border: 1px dashed gray;margin: 0 0.4em 0.5em 0.4em;box-sizing: border-box;padding-bottom: 0.4em;background-color: white;}#sk-container-id-2 div.sk-label label {font-family: monospace;font-weight: bold;display: inline-block;line-height: 1.2em;}#sk-container-id-2 div.sk-label-container {text-align: center;}#sk-container-id-2 div.sk-container {/* jupyter's `normalize.less` sets `[hidden] { display: none; }` but bootstrap.min.css set `[hidden] { display: none !important; }` so we also need the `!important` here to be able to override the default hidden behavior on the sphinx rendered scikit-learn.org. See: https://github.com/scikit-learn/scikit-learn/issues/21755 */display: inline-block !important;position: relative;}#sk-container-id-2 div.sk-text-repr-fallback {display: none;}</style><div id=\"sk-container-id-2\" class=\"sk-top-container\"><div class=\"sk-text-repr-fallback\"><pre>RandomForestClassifier()</pre><b>In a Jupyter environment, please rerun this cell to show the HTML representation or trust the notebook. <br />On GitHub, the HTML representation is unable to render, please try loading this page with nbviewer.org.</b></div><div class=\"sk-container\" hidden><div class=\"sk-item\"><div class=\"sk-estimator sk-toggleable\"><input class=\"sk-toggleable__control sk-hidden--visually\" id=\"sk-estimator-id-2\" type=\"checkbox\" checked><label for=\"sk-estimator-id-2\" class=\"sk-toggleable__label sk-toggleable__label-arrow\">RandomForestClassifier</label><div class=\"sk-toggleable__content\"><pre>RandomForestClassifier()</pre></div></div></div></div></div>"
            ]
          },
          "metadata": {},
          "execution_count": 29
        }
      ]
    },
    {
      "cell_type": "code",
      "source": [
        "y_pred = rf.predict(x_test)"
      ],
      "metadata": {
        "id": "WMpfiq8Ekjew"
      },
      "execution_count": 30,
      "outputs": []
    },
    {
      "cell_type": "markdown",
      "source": [
        "## Model Evaluation"
      ],
      "metadata": {
        "id": "vt4QGUWxPWjB"
      }
    },
    {
      "cell_type": "code",
      "source": [
        "from sklearn.metrics import classification_report, confusion_matrix, accuracy_score"
      ],
      "metadata": {
        "id": "3XPVtI8CPY_2"
      },
      "execution_count": 31,
      "outputs": []
    },
    {
      "cell_type": "code",
      "source": [
        "confusion_matrix(y_test, y_pred)"
      ],
      "metadata": {
        "id": "ls2Pbfc63xRe",
        "colab": {
          "base_uri": "https://localhost:8080/"
        },
        "outputId": "d1928d19-b244-4511-8766-aab46f07c963"
      },
      "execution_count": 32,
      "outputs": [
        {
          "output_type": "execute_result",
          "data": {
            "text/plain": [
              "array([[140, 454],\n",
              "       [144, 493]])"
            ]
          },
          "metadata": {},
          "execution_count": 32
        }
      ]
    },
    {
      "cell_type": "code",
      "source": [
        "print(classification_report(y_test, y_pred))"
      ],
      "metadata": {
        "id": "SSTscY4M31fQ",
        "colab": {
          "base_uri": "https://localhost:8080/"
        },
        "outputId": "87d4713c-4066-43dd-8b94-c82dee58169f"
      },
      "execution_count": 33,
      "outputs": [
        {
          "output_type": "stream",
          "name": "stdout",
          "text": [
            "              precision    recall  f1-score   support\n",
            "\n",
            "           0       0.49      0.24      0.32       594\n",
            "           1       0.52      0.77      0.62       637\n",
            "\n",
            "    accuracy                           0.51      1231\n",
            "   macro avg       0.51      0.50      0.47      1231\n",
            "weighted avg       0.51      0.51      0.48      1231\n",
            "\n"
          ]
        }
      ]
    },
    {
      "cell_type": "markdown",
      "source": [
        "# Explanation :\n",
        "- Precision: For class 0 (negative sentiment), the precision is 0.49, indicating that among all the samples predicted as negative, 49% of them are actually negative. For class 1 (positive sentiment), the precision is 0.52, indicating that among all the samples predicted as positive, 52% of them are actually positive.\n",
        "\n",
        "- Recall (Sensitivity): For class 0 (negative sentiment), the recall is 0.24, indicating that the model correctly identifies 24% of the actual negative samples. For class 1 (positive sentiment), the recall is 0.77, indicating that the model correctly identifies 77% of the actual positive samples.\n",
        "\n",
        "- F1-score: For class 0 (negative sentiment), the F1-score is 0.32, which is the harmonic mean of precision and recall for negative sentiment. For class 1 (positive sentiment), the F1-score is 0.62, which is the harmonic mean of precision and recall for positive sentiment.\n",
        "\n",
        "- Accuracy: The overall accuracy of the model is 0.51, which means that the model correctly predicts the sentiment for 51% of the samples."
      ],
      "metadata": {
        "id": "1oQed2wQaosq"
      }
    },
    {
      "cell_type": "markdown",
      "source": [
        "# Visualiztion :\n"
      ],
      "metadata": {
        "id": "KQdAaWv4V7FI"
      }
    },
    {
      "cell_type": "code",
      "source": [
        "conf_matrix = confusion_matrix(y_test, y_pred)"
      ],
      "metadata": {
        "id": "KYl6_Z6D5_aE"
      },
      "execution_count": 36,
      "outputs": []
    },
    {
      "cell_type": "code",
      "source": [
        "labels = ['Negative', 'Positive']\n",
        "plt.figure(figsize=(8, 6))\n",
        "sns.set(font_scale=1.2) # Adjust font size\n",
        "sns.heatmap(conf_matrix, annot=True, fmt='d', cmap=\"Blues\", xticklabels=labels, yticklabels=labels)\n",
        "plt.xlabel('Predicted')\n",
        "plt.ylabel('Actual')\n",
        "plt.title('Confusion Matrix')\n",
        "plt.show()"
      ],
      "metadata": {
        "colab": {
          "base_uri": "https://localhost:8080/",
          "height": 578
        },
        "id": "17myifzwWBRw",
        "outputId": "ae2291b9-dc48-4345-ba15-1cea3ac28f14"
      },
      "execution_count": 38,
      "outputs": [
        {
          "output_type": "display_data",
          "data": {
            "text/plain": [
              "<Figure size 800x600 with 2 Axes>"
            ],
            "image/png": "[encoded data removed]"
          },
          "metadata": {}
        }
      ]
    },
    {
      "cell_type": "markdown",
      "source": [
        "# Explanation :    \n",
        "> * This suggests us that the model is able to perform the prediction to a modest manner. It can perform sentiment analysis on the news data item and generate us with the overall sentiment that particular news item implies."
      ],
      "metadata": {
        "id": "Ug3cW7ZWZTDm"
      }
    },
    {
      "cell_type": "code",
      "source": [],
      "metadata": {
        "id": "b1RFJ3euWTO-"
      },
      "execution_count": null,
      "outputs": []
    }
  ]
}